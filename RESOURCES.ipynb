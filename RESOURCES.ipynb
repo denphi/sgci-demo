{
 "cells": [
  {
   "cell_type": "markdown",
   "metadata": {},
   "source": [
    "<div style=\"height:150px;background-repeat: no-repeat;background-color:#cccccc\"><img src='https://sciencegateways.org/documents/33104/0/sgci-new-logo-words-below-black.png/2fd67b90-d490-4a61-8b4e-c525cfade141?t=1501001786898' style='height:150px'></div> "
   ]
  },
  {
   "cell_type": "code",
   "execution_count": 1,
   "metadata": {},
   "outputs": [],
   "source": [
    "from SCGICatalog import SCGICatalogGithub, SCGICatalogXsede, SCGICatalogLocal\n",
    "from secrets import SECRETS"
   ]
  },
  {
   "cell_type": "markdown",
   "metadata": {},
   "source": [
    "<div style=\"height:50px;background-repeat: no-repeat;background-color:#cccccc\"><img src='https://lh3.googleusercontent.com/proxy/nMBbCkAoifrL2HOngHWp76x1zmi9ePqyIy-aah2uRJ8q573oTvjSTBqg5UIeNZJlVQ8aiqkJvRW-c7Ct-qsS9Q2a_aiqFecS1iCVSwGWh_Apwqb9aWc' style='position:absolute;right:20px;height:50px'><h1 style=\"text-align:left;padding-top:10px\">Resources from XSEDE API</h1></div> "
   ]
  },
  {
   "cell_type": "code",
   "execution_count": 2,
   "metadata": {},
   "outputs": [
    {
     "data": {
      "text/plain": [
       "['oasis-dm.sdsc.xsede.org',\n",
       " 'bridges2-ocean.psc.xsede.org',\n",
       " 'expanse.sdsc.xsede.org',\n",
       " 'bridges2-rm.psc.xsede.org',\n",
       " 'bridges2-gpu-ai.psc.xsede.org',\n",
       " 'grid1.osg.xsede.org',\n",
       " 'comet.sdsc.xsede.org',\n",
       " 'jetstream.tacc.xsede.org',\n",
       " 'wrangler-storage.tacc.xsede.org',\n",
       " 'glade.ncar.xsede.org',\n",
       " 'ranch.tacc.xsede.org',\n",
       " 'stampede2.tacc.xsede.org',\n",
       " 'expanse-gpu.sdsc.xsede.org',\n",
       " 'comet-gpu.sdsc.xsede.org',\n",
       " 'osn.osn.xsede.org',\n",
       " 'bridges2-gpu.psc.xsede.org',\n",
       " 'kyric.uky.xsede.org',\n",
       " 'darwin-gpu.udel.xsede.org',\n",
       " 'bridges2-em.psc.xsede.org',\n",
       " 'darwin.udel.xsede.org',\n",
       " 'darwin-storage.udel.xsede.org']"
      ]
     },
     "execution_count": 2,
     "metadata": {},
     "output_type": "execute_result"
    }
   ],
   "source": [
    "gh = SCGICatalogXsede()\n",
    "l = gh.listResources()\n",
    "l"
   ]
  },
  {
   "cell_type": "code",
   "execution_count": 3,
   "metadata": {},
   "outputs": [
    {
     "name": "stderr",
     "output_type": "stream",
     "text": [
      "/home/nanohub/denphi/scgi-demo/SCGICatalog.py:170: UserWarning: Additional properties are not allowed ('resourceStatus', 'storageResource' were unexpected)\n",
      "  warnings.warn(e.message)\n"
     ]
    },
    {
     "data": {
      "text/plain": [
       "{'schemaVersion': '0.1.0',\n",
       " 'host': 'oasis-dm.sdsc.xsede.org',\n",
       " 'name': 'SDSC Medium-term disk storage (Data Oasis)',\n",
       " 'description': '4PB of Lustre-based storage backed by 64 OSSs and a 10GigE interconnect',\n",
       " 'storageResource': [{'storageType': 'POSIX'}],\n",
       " 'resourceStatus': {'status': 'Production', 'starts': '2012-09-11'}}"
      ]
     },
     "execution_count": 3,
     "metadata": {},
     "output_type": "execute_result"
    }
   ],
   "source": [
    "oasis = gh.getResource('oasis-dm.sdsc.xsede.org')\n",
    "oasis"
   ]
  },
  {
   "cell_type": "code",
   "execution_count": 4,
   "metadata": {},
   "outputs": [
    {
     "name": "stderr",
     "output_type": "stream",
     "text": [
      "/home/nanohub/denphi/scgi-demo/SCGICatalog.py:170: UserWarning: Additional properties are not allowed ('computeResource', 'resourceStatus' were unexpected)\n",
      "  warnings.warn(e.message)\n"
     ]
    },
    {
     "data": {
      "text/plain": [
       "{'schemaVersion': '0.1.0',\n",
       " 'host': 'stampede2.tacc.xsede.org',\n",
       " 'name': 'TACC Dell/Intel Knights Landing, Skylake System (Stampede2)',\n",
       " 'description': 'The Stampede2 Dell/Intel Knights Landing (KNL), Skylake (SKX) System provides the user community access to two Intel Xeon compute technologies.\\r\\n\\r\\nThe system is configured with 4204 Dell KNL compute nodes, each with a stand-alone Intel Xeon Phi Knights Landing bootable processor.  Each KNL node includes 68 cores, 16GB MCDRAM, 96GB DDR-4 memory and a 200GB SSD drive.  \\r\\n\\r\\nStampede2 also includes 1736 Intel Xeon Skylake (SKX) nodes and additional management nodes. Each SKX includes 48 cores, 192GB DDR-4 memory, and a 200GB SSD.\\r\\n\\r\\nAllocations awarded on Stampede2 may be used on either or both of the node types.\\r\\n\\r\\nCompute nodes have access to dedicated Lustre Parallel file systems totaling 28PB raw, provided by Cray. An Intel Omni-Path Architecture switch fabric connects the nodes and storage through a fat-tree topology with a point to point bandwidth of 100 Gb/s (unidirectional speed). 16 additional login and management servers complete the system. Stampede2 will deliver an estimated 18PF of peak performance.\\r\\n\\r\\nPlease see the Stampede2 User Guide for detailed information on the system and how to most effectively use it.\\r\\n\\r\\nhttps://portal.tacc.utexas.edu/user-guides/stampede2',\n",
       " 'computeResource': [{'schedulerType': 'BATCH',\n",
       "   'connections': [{'connectionProtocol': 'SSH',\n",
       "     'securityProtocol': 'SSHKEYS',\n",
       "     'port': 2222},\n",
       "    {'connectionProtocol': 'SSH', 'securityProtocol': 'X509', 'port': 2222},\n",
       "    {'connectionProtocol': 'SCP', 'securityProtocol': 'SSHKEYS', 'port': 2222},\n",
       "    {'connectionProtocol': 'SCP', 'securityProtocol': 'X509', 'port': 2222},\n",
       "    {'connectionProtocol': 'GRIDFTP',\n",
       "     'securityProtocol': 'X509',\n",
       "     'proxyHost': 'gridftp.stampede2.tacc.xsede.org',\n",
       "     'proxyPort': 2811}],\n",
       "   'batchSystem': {'jobManager': 'SLURM',\n",
       "    'partitions': [{'name': 'Collin-SSH-Testing',\n",
       "      'totalNodes': 'n/a',\n",
       "      'nodehardware': {'cpuType': 'x86_64',\n",
       "       'cpuCount': 'n/a',\n",
       "       'memorySize': 0}},\n",
       "     {'name': 'Todd',\n",
       "      'totalNodes': 'n/a',\n",
       "      'nodehardware': {'cpuType': 'x86_64',\n",
       "       'cpuCount': 'n/a',\n",
       "       'memorySize': 0}},\n",
       "     {'name': 'Maintenance-2021-03-02',\n",
       "      'totalNodes': 'n/a',\n",
       "      'nodehardware': {'cpuType': 'x86_64',\n",
       "       'cpuCount': 'n/a',\n",
       "       'memorySize': 0}},\n",
       "     {'name': 'NodeType1',\n",
       "      'totalNodes': 4180,\n",
       "      'nodehardware': {'cpuType': 'x86_64', 'cpuCount': 272, 'memorySize': 1}},\n",
       "     {'name': 'NodeType2',\n",
       "      'totalNodes': 1736,\n",
       "      'nodehardware': {'cpuType': 'x86_64', 'cpuCount': 96, 'memorySize': 1}},\n",
       "     {'name': 'float_dev',\n",
       "      'totalNodes': 'n/a',\n",
       "      'nodehardware': {'cpuType': 'x86_64',\n",
       "       'cpuCount': 'n/a',\n",
       "       'memorySize': 0}},\n",
       "     {'name': 'PT2050',\n",
       "      'totalNodes': 20,\n",
       "      'nodehardware': {'cpuType': 'x86_64',\n",
       "       'cpuCount': 272,\n",
       "       'memorySize': 1}}]}},\n",
       "  {'schedulerType': 'FORK',\n",
       "   'forkSystem': {'systemType': 'LINUX'},\n",
       "   'connections': [{'connectionProtocol': 'SSH',\n",
       "     'securityProtocol': 'SSHKEYS',\n",
       "     'port': 2222},\n",
       "    {'connectionProtocol': 'SSH', 'securityProtocol': 'X509', 'port': 2222},\n",
       "    {'connectionProtocol': 'SCP', 'securityProtocol': 'SSHKEYS', 'port': 2222},\n",
       "    {'connectionProtocol': 'SCP', 'securityProtocol': 'X509', 'port': 2222},\n",
       "    {'connectionProtocol': 'GRIDFTP',\n",
       "     'securityProtocol': 'X509',\n",
       "     'proxyHost': 'gridftp.stampede2.tacc.xsede.org',\n",
       "     'proxyPort': 2811}]}],\n",
       " 'resourceStatus': {'status': 'Production',\n",
       "  'starts': '2017-06-13',\n",
       "  'ends': '2021-09-30'}}"
      ]
     },
     "execution_count": 4,
     "metadata": {},
     "output_type": "execute_result"
    }
   ],
   "source": [
    "stampede2 = gh.getResource('stampede2.tacc.xsede.org')\n",
    "stampede2"
   ]
  },
  {
   "cell_type": "code",
   "execution_count": 5,
   "metadata": {},
   "outputs": [
    {
     "name": "stdout",
     "output_type": "stream",
     "text": [
      "Additional properties are not allowed ('computeResource', 'resourceStatus' were unexpected)\n"
     ]
    }
   ],
   "source": [
    "try:\n",
    "    gh.validateResource(stampede2)\n",
    "except Exception as e:\n",
    "    print(e.message)\n",
    "    "
   ]
  },
  {
   "cell_type": "markdown",
   "metadata": {},
   "source": [
    "<div style=\"height:50px;background-repeat: no-repeat;background-color:#cccccc\"><img src='https://www.pngkey.com/png/full/955-9558163_transparent-github-logo.png' style='position:absolute;right:20px;height:50px'><h1 style=\"text-align:left;padding-top:10px\">Resources for GitHub API</h1></div> "
   ]
  },
  {
   "cell_type": "code",
   "execution_count": 8,
   "metadata": {},
   "outputs": [
    {
     "data": {
      "text/plain": [
       "['bigred3.iu',\n",
       " 'carbonateHPC.iu.compute',\n",
       " 'comet.sdsc.compute',\n",
       " 'comet.sdsc.xsede',\n",
       " 'compute',\n",
       " 'corral.tacc.storage',\n",
       " 'halstead.rcac.purdue',\n",
       " 'posix-storages',\n",
       " 'scigap-dev.iu.storage',\n",
       " 'stampede2.tacc.xsede']"
      ]
     },
     "execution_count": 8,
     "metadata": {},
     "output_type": "execute_result"
    }
   ],
   "source": [
    "gh = SCGICatalogGithub(token=\"\")\n",
    "l = gh.listResources()\n",
    "l"
   ]
  },
  {
   "cell_type": "code",
   "execution_count": 9,
   "metadata": {},
   "outputs": [
    {
     "name": "stderr",
     "output_type": "stream",
     "text": [
      "/home/nanohub/denphi/scgi-demo/SCGICatalog.py:139: UserWarning: Additional properties are not allowed ('sgciResources' was unexpected)\n",
      "  warnings.warn(e.message)\n"
     ]
    },
    {
     "data": {
      "text/plain": [
       "{'sgciResources': [{'id': '3',\n",
       "   'name': 'SDSC Comet Cluster',\n",
       "   'resourceType': 'COMPUTE',\n",
       "   'resource': {'hosts': {'hostname': 'bigred3.uits.iu.edu'},\n",
       "    'schedulerType': 'BATCH',\n",
       "    'connection': {'connectionProtocol': 'SSH',\n",
       "     'securityProtocol': 'SSHKEYS',\n",
       "     'port': 22},\n",
       "    'batchSystem': {'jobManager': 'SLURM',\n",
       "     'commandPaths': [{'name': 'SUBMISSION'}]}}}]}"
      ]
     },
     "execution_count": 9,
     "metadata": {},
     "output_type": "execute_result"
    }
   ],
   "source": [
    "res = gh.getResource('comet.sdsc.xsede')\n",
    "res"
   ]
  },
  {
   "cell_type": "code",
   "execution_count": 11,
   "metadata": {},
   "outputs": [
    {
     "data": {
      "text/plain": [
       "{'schemaVersion': '0.1.0',\n",
       " 'host': 'stampede2.tacc.xsede.org',\n",
       " 'name': 'tacc-xsede-stampede2',\n",
       " 'description': 'WIP: Sample resource for TACC Stampede2 Cluster',\n",
       " 'computeResources': [{'schedulerType': 'BATCH',\n",
       "   'connections': [{'connectionProtocol': 'SSH',\n",
       "     'securityProtocol': 'SSHKEYS',\n",
       "     'port': 22},\n",
       "    {'connectionProtocol': 'SSH',\n",
       "     'securityProtocol': 'PASSWORDS',\n",
       "     'port': 22}],\n",
       "   'batchSystem': {'jobManager': 'SLURM',\n",
       "    'commandPaths': [{'name': 'SUBMISSION', 'path': '/bin/sbatch'}],\n",
       "    'partitions': [{'name': 'normal',\n",
       "      'totalNodes': 256,\n",
       "      'nodeHardware': {'cpuType': 'KNL CPUs @ 1.40GHz',\n",
       "       'cpuCount': 68,\n",
       "       'memoryType': 'DDR4',\n",
       "       'memorySize': '96 GB'}}],\n",
       "    'executionCommands': [{'commandType': 'mpi',\n",
       "      'commandPrefix': 'ibrun',\n",
       "      'moduleDependencies': ['intel/17.0.4', 'impi/17.0.3']}]}},\n",
       "  {'schedulerType': 'FORK',\n",
       "   'connections': [{'connectionProtocol': 'SSH',\n",
       "     'securityProtocol': 'SSHKEYS',\n",
       "     'port': 22},\n",
       "    {'connectionProtocol': 'SSH',\n",
       "     'securityProtocol': 'PASSWORDS',\n",
       "     'port': 22}],\n",
       "   'forkSystem': {'systemType': 'LINUX'}}],\n",
       " 'storageResources': [{'storageType': 'POSIX',\n",
       "   'connections': [{'connectionProtocol': 'SSH',\n",
       "     'securityProtocol': 'SSHKEYS',\n",
       "     'port': 22}],\n",
       "   'fileSystems': [{'homeDir': '/home1',\n",
       "     'scratchDir': '/scratch',\n",
       "     'workDir': '/work'}]}]}"
      ]
     },
     "execution_count": 11,
     "metadata": {},
     "output_type": "execute_result"
    }
   ],
   "source": [
    "stampede = gh.getResource('stampede2.tacc.xsede')\n",
    "stampede"
   ]
  },
  {
   "cell_type": "markdown",
   "metadata": {},
   "source": [
    "<div style=\"height:50px;background-repeat: no-repeat;background-color:#cccccc\"><img src='https://www.datocms-assets.com/23989/1584047698-logo3-01.png' style='position:absolute;right:20px;height:50px'><h1 style=\"text-align:left;padding-top:10px\">Resources from Local filesystem</h1></div> "
   ]
  },
  {
   "cell_type": "code",
   "execution_count": 12,
   "metadata": {},
   "outputs": [
    {
     "data": {
      "text/plain": [
       "['stampede2.tacc.xsede', 'resources-schema', 'halstead.rcac.purdue']"
      ]
     },
     "execution_count": 12,
     "metadata": {},
     "output_type": "execute_result"
    }
   ],
   "source": [
    "gh = SCGICatalogLocal()\n",
    "l = gh.listResources()\n",
    "l"
   ]
  },
  {
   "cell_type": "code",
   "execution_count": 13,
   "metadata": {},
   "outputs": [
    {
     "data": {
      "text/plain": [
       "{'schemaVersion': '0.1.0',\n",
       " 'host': 'stampede2.tacc.xsede.org',\n",
       " 'name': 'tacc-xsede-stampede2',\n",
       " 'description': 'WIP: Sample resource for TACC Stampede2 Cluster',\n",
       " 'computeResources': [{'schedulerType': 'BATCH',\n",
       "   'connections': [{'connectionProtocol': 'SSH',\n",
       "     'securityProtocol': 'SSHKEYS',\n",
       "     'port': 22},\n",
       "    {'connectionProtocol': 'SSH',\n",
       "     'securityProtocol': 'PASSWORDS',\n",
       "     'port': 22}],\n",
       "   'batchSystem': {'jobManager': 'SLURM',\n",
       "    'commandPaths': [{'name': 'SUBMISSION', 'path': '/bin/sbatch'}],\n",
       "    'partitions': [{'name': 'normal',\n",
       "      'totalNodes': 256,\n",
       "      'nodeHardware': {'cpuType': 'KNL CPUs @ 1.40GHz',\n",
       "       'cpuCount': 68,\n",
       "       'memoryType': 'DDR4',\n",
       "       'memorySize': '96 GB'}}],\n",
       "    'executionCommands': [{'commandType': 'mpi',\n",
       "      'commandPrefix': 'ibrun',\n",
       "      'moduleDependencies': ['intel/17.0.4', 'impi/17.0.3']}]}},\n",
       "  {'schedulerType': 'FORK',\n",
       "   'connections': [{'connectionProtocol': 'SSH',\n",
       "     'securityProtocol': 'SSHKEYS',\n",
       "     'port': 22},\n",
       "    {'connectionProtocol': 'SSH',\n",
       "     'securityProtocol': 'PASSWORDS',\n",
       "     'port': 22}],\n",
       "   'forkSystem': {'systemType': 'LINUX'}}],\n",
       " 'storageResources': [{'storageType': 'POSIX',\n",
       "   'connections': [{'connectionProtocol': 'SSH',\n",
       "     'securityProtocol': 'SSHKEYS',\n",
       "     'port': 22}],\n",
       "   'fileSystems': [{'homeDir': '/home1',\n",
       "     'scratchDir': '/scratch',\n",
       "     'workDir': '/work'}]}]}"
      ]
     },
     "metadata": {},
     "output_type": "display_data"
    }
   ],
   "source": [
    "stampede = gh.getResource('stampede2.tacc.xsede')\n",
    "gh.validateResource(stampede)\n",
    "display(stampede)"
   ]
  },
  {
   "cell_type": "markdown",
   "metadata": {},
   "source": [
    "<div style=\"height:50px;background-repeat: no-repeat;background-color:#cccccc\"><img src='https://sciencegateways.org/documents/33104/0/sgci-new-logo-words-below-black.png/2fd67b90-d490-4a61-8b4e-c525cfade141?t=1501001786898' style='position:absolute;right:20px;height:50px'><h1 style=\"text-align:left;padding-top:10px\">Combine Resources</h1></div> "
   ]
  },
  {
   "cell_type": "code",
   "execution_count": 14,
   "metadata": {
    "scrolled": false
   },
   "outputs": [
    {
     "data": {
      "text/plain": [
       "{'schemaVersion': '0.1.0',\n",
       " 'host': 'stampede2.tacc.xsede.org',\n",
       " 'name': 'tacc-xsede-stampede2',\n",
       " 'description': 'WIP: Sample resource for TACC Stampede2 Cluster',\n",
       " 'computeResources': [{'schedulerType': 'BATCH',\n",
       "   'connections': [{'connectionProtocol': 'SSH',\n",
       "     'securityProtocol': 'SSHKEYS',\n",
       "     'port': 22},\n",
       "    {'connectionProtocol': 'SSH', 'securityProtocol': 'PASSWORDS', 'port': 22},\n",
       "    {'connectionProtocol': 'SSH', 'securityProtocol': 'SSHKEYS', 'port': 22}],\n",
       "   'batchSystem': {'jobManager': 'SLURM',\n",
       "    'commandPaths': [{'name': 'SUBMISSION', 'path': '/bin/sbatch'},\n",
       "     {'name': 'SUBMISSION', 'path': '/bin/sbatch'}],\n",
       "    'partitions': [{'name': 'normal',\n",
       "      'totalNodes': 256,\n",
       "      'nodeHardware': {'cpuType': 'KNL CPUs @ 1.40GHz',\n",
       "       'cpuCount': 68,\n",
       "       'memoryType': 'DDR4',\n",
       "       'memorySize': '96 GB'}},\n",
       "     {'name': 'normal',\n",
       "      'totalNodes': 256,\n",
       "      'nodeHardware': {'cpuType': 'KNL CPUs @ 1.40GHz',\n",
       "       'cpuCount': 68,\n",
       "       'memoryType': 'DDR4',\n",
       "       'memorySize': '96 GB'}}],\n",
       "    'executionCommands': [{'commandType': 'mpi',\n",
       "      'commandPrefix': 'ibrun',\n",
       "      'moduleDependencies': ['intel/17.0.4', 'impi/17.0.3']},\n",
       "     {'commandType': 'mpi',\n",
       "      'commandPrefix': 'ibrun',\n",
       "      'moduleDependencies': ['intel/17.0.4', 'impi/17.0.3']}]}},\n",
       "  {'schedulerType': 'FORK',\n",
       "   'connections': [{'connectionProtocol': 'SSH',\n",
       "     'securityProtocol': 'SSHKEYS',\n",
       "     'port': 22},\n",
       "    {'connectionProtocol': 'SSH', 'securityProtocol': 'PASSWORDS', 'port': 22},\n",
       "    {'connectionProtocol': 'SSH', 'securityProtocol': 'SSHKEYS', 'port': 22}],\n",
       "   'forkSystem': {'systemType': 'LINUX'}},\n",
       "  {'schedulerType': 'BATCH',\n",
       "   'connections': [{'connectionProtocol': 'SSH',\n",
       "     'securityProtocol': 'SSHKEYS',\n",
       "     'port': 22},\n",
       "    {'connectionProtocol': 'SSH', 'securityProtocol': 'PASSWORDS', 'port': 22},\n",
       "    {'connectionProtocol': 'SSH', 'securityProtocol': 'SSHKEYS', 'port': 22}],\n",
       "   'batchSystem': {'jobManager': 'SLURM',\n",
       "    'commandPaths': [{'name': 'SUBMISSION', 'path': '/bin/sbatch'},\n",
       "     {'name': 'SUBMISSION', 'path': '/bin/sbatch'}],\n",
       "    'partitions': [{'name': 'normal',\n",
       "      'totalNodes': 256,\n",
       "      'nodeHardware': {'cpuType': 'KNL CPUs @ 1.40GHz',\n",
       "       'cpuCount': 68,\n",
       "       'memoryType': 'DDR4',\n",
       "       'memorySize': '96 GB'}},\n",
       "     {'name': 'normal',\n",
       "      'totalNodes': 256,\n",
       "      'nodeHardware': {'cpuType': 'KNL CPUs @ 1.40GHz',\n",
       "       'cpuCount': 68,\n",
       "       'memoryType': 'DDR4',\n",
       "       'memorySize': '96 GB'}}],\n",
       "    'executionCommands': [{'commandType': 'mpi',\n",
       "      'commandPrefix': 'ibrun',\n",
       "      'moduleDependencies': ['intel/17.0.4', 'impi/17.0.3']},\n",
       "     {'commandType': 'mpi',\n",
       "      'commandPrefix': 'ibrun',\n",
       "      'moduleDependencies': ['intel/17.0.4', 'impi/17.0.3']}]}}],\n",
       " 'storageResources': [{'storageType': 'POSIX',\n",
       "   'connections': [{'connectionProtocol': 'SSH',\n",
       "     'securityProtocol': 'SSHKEYS',\n",
       "     'port': 22},\n",
       "    {'connectionProtocol': 'SSH', 'securityProtocol': 'SSHKEYS', 'port': 22}],\n",
       "   'fileSystems': [{'homeDir': '/home1',\n",
       "     'scratchDir': '/scratch',\n",
       "     'workDir': '/work'},\n",
       "    {'homeDir': '/home1', 'scratchDir': '/scratch', 'workDir': '/work'}]},\n",
       "  {'storageType': 'POSIX',\n",
       "   'connections': [{'connectionProtocol': 'SSH',\n",
       "     'securityProtocol': 'SSHKEYS',\n",
       "     'port': 22},\n",
       "    {'connectionProtocol': 'SSH', 'securityProtocol': 'SSHKEYS', 'port': 22}],\n",
       "   'fileSystems': [{'homeDir': '/home1',\n",
       "     'scratchDir': '/scratch',\n",
       "     'workDir': '/work'},\n",
       "    {'homeDir': '/home1', 'scratchDir': '/scratch', 'workDir': '/work'}]}],\n",
       " 'computeResource': [{'schedulerType': 'BATCH',\n",
       "   'connections': [{'connectionProtocol': 'SSH',\n",
       "     'securityProtocol': 'SSHKEYS',\n",
       "     'port': 2222},\n",
       "    {'connectionProtocol': 'SSH', 'securityProtocol': 'X509', 'port': 2222},\n",
       "    {'connectionProtocol': 'SCP', 'securityProtocol': 'SSHKEYS', 'port': 2222},\n",
       "    {'connectionProtocol': 'SCP', 'securityProtocol': 'X509', 'port': 2222},\n",
       "    {'connectionProtocol': 'GRIDFTP',\n",
       "     'securityProtocol': 'X509',\n",
       "     'proxyHost': 'gridftp.stampede2.tacc.xsede.org',\n",
       "     'proxyPort': 2811},\n",
       "    {'connectionProtocol': 'SSH',\n",
       "     'securityProtocol': 'SSHKEYS',\n",
       "     'port': 2222}],\n",
       "   'batchSystem': {'jobManager': 'SLURM',\n",
       "    'partitions': [{'name': 'Collin-SSH-Testing',\n",
       "      'totalNodes': 'n/a',\n",
       "      'nodehardware': {'cpuType': 'x86_64',\n",
       "       'cpuCount': 'n/a',\n",
       "       'memorySize': 0}},\n",
       "     {'name': 'Todd',\n",
       "      'totalNodes': 'n/a',\n",
       "      'nodehardware': {'cpuType': 'x86_64',\n",
       "       'cpuCount': 'n/a',\n",
       "       'memorySize': 0}},\n",
       "     {'name': 'Maintenance-2021-03-02',\n",
       "      'totalNodes': 'n/a',\n",
       "      'nodehardware': {'cpuType': 'x86_64',\n",
       "       'cpuCount': 'n/a',\n",
       "       'memorySize': 0}},\n",
       "     {'name': 'NodeType1',\n",
       "      'totalNodes': 4180,\n",
       "      'nodehardware': {'cpuType': 'x86_64', 'cpuCount': 272, 'memorySize': 1}},\n",
       "     {'name': 'NodeType2',\n",
       "      'totalNodes': 1736,\n",
       "      'nodehardware': {'cpuType': 'x86_64', 'cpuCount': 96, 'memorySize': 1}},\n",
       "     {'name': 'float_dev',\n",
       "      'totalNodes': 'n/a',\n",
       "      'nodehardware': {'cpuType': 'x86_64',\n",
       "       'cpuCount': 'n/a',\n",
       "       'memorySize': 0}},\n",
       "     {'name': 'PT2050',\n",
       "      'totalNodes': 20,\n",
       "      'nodehardware': {'cpuType': 'x86_64', 'cpuCount': 272, 'memorySize': 1}},\n",
       "     {'name': 'Collin-SSH-Testing',\n",
       "      'totalNodes': 'n/a',\n",
       "      'nodehardware': {'cpuType': 'x86_64',\n",
       "       'cpuCount': 'n/a',\n",
       "       'memorySize': 0}}]}},\n",
       "  {'schedulerType': 'FORK',\n",
       "   'forkSystem': {'systemType': 'LINUX'},\n",
       "   'connections': [{'connectionProtocol': 'SSH',\n",
       "     'securityProtocol': 'SSHKEYS',\n",
       "     'port': 2222},\n",
       "    {'connectionProtocol': 'SSH', 'securityProtocol': 'X509', 'port': 2222},\n",
       "    {'connectionProtocol': 'SCP', 'securityProtocol': 'SSHKEYS', 'port': 2222},\n",
       "    {'connectionProtocol': 'SCP', 'securityProtocol': 'X509', 'port': 2222},\n",
       "    {'connectionProtocol': 'GRIDFTP',\n",
       "     'securityProtocol': 'X509',\n",
       "     'proxyHost': 'gridftp.stampede2.tacc.xsede.org',\n",
       "     'proxyPort': 2811},\n",
       "    {'connectionProtocol': 'SSH',\n",
       "     'securityProtocol': 'SSHKEYS',\n",
       "     'port': 2222}]},\n",
       "  {'schedulerType': 'BATCH',\n",
       "   'connections': [{'connectionProtocol': 'SSH',\n",
       "     'securityProtocol': 'SSHKEYS',\n",
       "     'port': 2222},\n",
       "    {'connectionProtocol': 'SSH', 'securityProtocol': 'X509', 'port': 2222},\n",
       "    {'connectionProtocol': 'SCP', 'securityProtocol': 'SSHKEYS', 'port': 2222},\n",
       "    {'connectionProtocol': 'SCP', 'securityProtocol': 'X509', 'port': 2222},\n",
       "    {'connectionProtocol': 'GRIDFTP',\n",
       "     'securityProtocol': 'X509',\n",
       "     'proxyHost': 'gridftp.stampede2.tacc.xsede.org',\n",
       "     'proxyPort': 2811},\n",
       "    {'connectionProtocol': 'SSH',\n",
       "     'securityProtocol': 'SSHKEYS',\n",
       "     'port': 2222}],\n",
       "   'batchSystem': {'jobManager': 'SLURM',\n",
       "    'partitions': [{'name': 'Collin-SSH-Testing',\n",
       "      'totalNodes': 'n/a',\n",
       "      'nodehardware': {'cpuType': 'x86_64',\n",
       "       'cpuCount': 'n/a',\n",
       "       'memorySize': 0}},\n",
       "     {'name': 'Todd',\n",
       "      'totalNodes': 'n/a',\n",
       "      'nodehardware': {'cpuType': 'x86_64',\n",
       "       'cpuCount': 'n/a',\n",
       "       'memorySize': 0}},\n",
       "     {'name': 'Maintenance-2021-03-02',\n",
       "      'totalNodes': 'n/a',\n",
       "      'nodehardware': {'cpuType': 'x86_64',\n",
       "       'cpuCount': 'n/a',\n",
       "       'memorySize': 0}},\n",
       "     {'name': 'NodeType1',\n",
       "      'totalNodes': 4180,\n",
       "      'nodehardware': {'cpuType': 'x86_64', 'cpuCount': 272, 'memorySize': 1}},\n",
       "     {'name': 'NodeType2',\n",
       "      'totalNodes': 1736,\n",
       "      'nodehardware': {'cpuType': 'x86_64', 'cpuCount': 96, 'memorySize': 1}},\n",
       "     {'name': 'float_dev',\n",
       "      'totalNodes': 'n/a',\n",
       "      'nodehardware': {'cpuType': 'x86_64',\n",
       "       'cpuCount': 'n/a',\n",
       "       'memorySize': 0}},\n",
       "     {'name': 'PT2050',\n",
       "      'totalNodes': 20,\n",
       "      'nodehardware': {'cpuType': 'x86_64', 'cpuCount': 272, 'memorySize': 1}},\n",
       "     {'name': 'Collin-SSH-Testing',\n",
       "      'totalNodes': 'n/a',\n",
       "      'nodehardware': {'cpuType': 'x86_64',\n",
       "       'cpuCount': 'n/a',\n",
       "       'memorySize': 0}}]}}],\n",
       " 'resourceStatus': {'status': 'Production',\n",
       "  'starts': '2017-06-13',\n",
       "  'ends': '2021-09-30'}}"
      ]
     },
     "execution_count": 14,
     "metadata": {},
     "output_type": "execute_result"
    }
   ],
   "source": [
    "merged = gh.mergeResources([stampede, stampede2])\n",
    "merged"
   ]
  },
  {
   "cell_type": "code",
   "execution_count": 15,
   "metadata": {},
   "outputs": [
    {
     "name": "stdout",
     "output_type": "stream",
     "text": [
      "Additional properties are not allowed ('sgciResources' was unexpected)\n"
     ]
    }
   ],
   "source": [
    "try:\n",
    "    gh.validateResource(res)\n",
    "except Exception as e:\n",
    "    print(e.message)"
   ]
  },
  {
   "cell_type": "markdown",
   "metadata": {},
   "source": [
    "<div style=\"height:50px;background-repeat: no-repeat;background-color:#cccccc\"><img src='https://sciencegateways.org/documents/33104/0/sgci-new-logo-words-below-black.png/2fd67b90-d490-4a61-8b4e-c525cfade141?t=1501001786898' style='position:absolute;right:20px;height:50px'><h1 style=\"text-align:left;padding-top:10px\">Filter by Path</h1></div> "
   ]
  },
  {
   "cell_type": "code",
   "execution_count": 16,
   "metadata": {},
   "outputs": [
    {
     "data": {
      "text/plain": [
       "['tacc-xsede-stampede2',\n",
       " 'stampede2.tacc.xsede.org',\n",
       " ['BATCH', 'FORK', 'BATCH']]"
      ]
     },
     "execution_count": 16,
     "metadata": {},
     "output_type": "execute_result"
    }
   ],
   "source": [
    "gh.searchPath(\"[name, host, computeResources[].schedulerType]\", stampede)"
   ]
  },
  {
   "cell_type": "markdown",
   "metadata": {},
   "source": [
    "<div style=\"height:50px;background-repeat: no-repeat;background-color:#cccccc\"><img src='https://sciencegateways.org/documents/33104/0/sgci-new-logo-words-below-black.png/2fd67b90-d490-4a61-8b4e-c525cfade141?t=1501001786898' style='position:absolute;right:20px;height:50px'><h1 style=\"text-align:left;padding-top:10px\">Template</h1></div> "
   ]
  },
  {
   "cell_type": "code",
   "execution_count": 17,
   "metadata": {},
   "outputs": [],
   "source": [
    "def TemplatePBS():\n",
    "    return \"\"\n",
    "\n",
    "instance_json = '''[{ \n",
    "    \"instance\" : {\n",
    "        \"name\" : \"GaAs_Tutorial\",\n",
    "        \"application\": { \"#ref\" : \"{app}#application\" },\n",
    "        \"execution\" : {\n",
    "            \"host\" : { \"#ref\" : \"{res}#host\" },\n",
    "            \"connection\" : { \"#ref\" : \"{res}#((computeResources[?schedulerType==\\'BATCH\\'] | [0]).connections[?securityProtocol==\\'PASSWORDS\\'] | [0])\" },\n",
    "            \"execution\" : { \"#ref\" : \"{res}#(computeResources[?schedulerType==\\'BATCH\\'] | [0]).{jobManager:batchSystem.jobManager, commandPaths:batchSystem.commandPaths, partition:batchSystem.partitions[0]}\"},\n",
    "            \"parallel\" : { \"#ref\" : \"{res}#((computeResources[?schedulerType==\\'BATCH\\'] | [0]).batchSystem.[executionCommands[?commandType==\\'mpi\\']][] | [0])\" }\n",
    "        },\n",
    "        \"storage\":{\n",
    "            \"connection\" : { \"#ref\" : \"{res}#((computeResources[?schedulerType==\\'BATCH\\'] | [0]).connections[?securityProtocol==\\'PASSWORDS\\'] | [0])\" },\n",
    "            \"filesystem\" : { \"#ref\" : \"{res}#(storageResources[?storageType==\\'POSIX\\'].fileSystems[] | [0])\" } \n",
    "        }\n",
    "    }    \n",
    "}]'''\n"
   ]
  },
  {
   "cell_type": "code",
   "execution_count": 18,
   "metadata": {},
   "outputs": [
    {
     "data": {
      "text/plain": [
       "[{'instance': {'name': 'GaAs_Tutorial',\n",
       "   'application': {'name': 'pw.x',\n",
       "    'moduleDependencies': ['qe/6.4.1'],\n",
       "    'inputs': {'inputdeck': ''}},\n",
       "   'execution': {'host': 'stampede2.tacc.xsede.org',\n",
       "    'connection': {'connectionProtocol': 'SSH',\n",
       "     'securityProtocol': 'PASSWORDS',\n",
       "     'port': 22},\n",
       "    'execution': {'jobManager': 'SLURM',\n",
       "     'commandPaths': [{'name': 'SUBMISSION', 'path': '/bin/sbatch'},\n",
       "      {'name': 'SUBMISSION', 'path': '/bin/sbatch'}],\n",
       "     'partition': {'name': 'normal',\n",
       "      'totalNodes': 256,\n",
       "      'nodeHardware': {'cpuType': 'KNL CPUs @ 1.40GHz',\n",
       "       'cpuCount': 68,\n",
       "       'memoryType': 'DDR4',\n",
       "       'memorySize': '96 GB'}}},\n",
       "    'parallel': {'commandType': 'mpi',\n",
       "     'commandPrefix': 'ibrun',\n",
       "     'moduleDependencies': ['intel/17.0.4', 'impi/17.0.3']}},\n",
       "   'storage': {'connection': {'connectionProtocol': 'SSH',\n",
       "     'securityProtocol': 'PASSWORDS',\n",
       "     'port': 22},\n",
       "    'filesystem': {'homeDir': '/home1',\n",
       "     'scratchDir': '/scratch',\n",
       "     'workDir': '/work'}}}}]"
      ]
     },
     "execution_count": 18,
     "metadata": {},
     "output_type": "execute_result"
    }
   ],
   "source": [
    "qe_tacc = {\n",
    "    \"application\":{\n",
    "        \"name\" : \"pw.x\",\n",
    "        \"moduleDependencies\" : [\"qe/6.4.1\"],\n",
    "        \"inputs\" : { \"inputdeck\" : TemplatePBS() }\n",
    "    }\n",
    "}\n",
    "a1 = gh.derefResource(instance_json, {'res':stampede, 'app':qe_tacc})\n",
    "a1"
   ]
  },
  {
   "cell_type": "code",
   "execution_count": 19,
   "metadata": {},
   "outputs": [
    {
     "data": {
      "text/plain": [
       "[{'instance': {'name': 'GaAs_Tutorial',\n",
       "   'application': {'name': 'pw.x',\n",
       "    'moduleDependencies': ['quantum-espresso/6.3'],\n",
       "    'inputs': {'inputdeck': ''}},\n",
       "   'execution': {'host': 'halstead.rcac.purdue.edu',\n",
       "    'connection': {'connectionProtocol': 'SSH',\n",
       "     'securityProtocol': 'PASSWORDS',\n",
       "     'port': 22},\n",
       "    'execution': {'jobManager': 'SLURM',\n",
       "     'commandPaths': [{'name': 'SUBMISSION', 'path': '/bin/sbatch'}],\n",
       "     'partition': {'name': 'halstead-standby',\n",
       "      'totalNodes': 580,\n",
       "      'nodeHardware': {'cpuType': 'Haswell CPUs @ 2.60GHz',\n",
       "       'cpuCount': 20,\n",
       "       'memoryType': 'DDR4',\n",
       "       'memorySize': '128 GB'}}},\n",
       "    'parallel': {'commandType': 'mpi',\n",
       "     'commandPrefix': 'mpirun',\n",
       "     'moduleDependencies': ['intel/17.0.1.13', 'impi/2017.1.132']}},\n",
       "   'storage': {'connection': {'connectionProtocol': 'SSH',\n",
       "     'securityProtocol': 'PASSWORDS',\n",
       "     'port': 22},\n",
       "    'filesystem': {'homeDir': '/home', 'scratchDir': '/scratch/halstead'}}}}]"
      ]
     },
     "execution_count": 19,
     "metadata": {},
     "output_type": "execute_result"
    }
   ],
   "source": [
    "qe_purdue = {\n",
    "    \"application\":{\n",
    "        \"name\" : \"pw.x\",\n",
    "        \"moduleDependencies\" : [\"quantum-espresso/6.3\"],\n",
    "        \"inputs\" : { \"inputdeck\" : TemplatePBS() }\n",
    "    }\n",
    "}\n",
    "halstead = gh.getResource('halstead.rcac.purdue')\n",
    "a2 = gh.derefResource(instance_json, {'res':halstead, 'app':qe_purdue})\n",
    "a2"
   ]
  },
  {
   "cell_type": "code",
   "execution_count": null,
   "metadata": {},
   "outputs": [],
   "source": []
  }
 ],
 "metadata": {
  "kernelspec": {
   "display_name": "Python 3",
   "language": "python",
   "name": "python3"
  },
  "language_info": {
   "codemirror_mode": {
    "name": "ipython",
    "version": 3
   },
   "file_extension": ".py",
   "mimetype": "text/x-python",
   "name": "python",
   "nbconvert_exporter": "python",
   "pygments_lexer": "ipython3",
   "version": "3.7.7"
  },
  "widgets": {
   "application/vnd.jupyter.widget-state+json": {
    "state": {},
    "version_major": 2,
    "version_minor": 0
   }
  }
 },
 "nbformat": 4,
 "nbformat_minor": 2
}
