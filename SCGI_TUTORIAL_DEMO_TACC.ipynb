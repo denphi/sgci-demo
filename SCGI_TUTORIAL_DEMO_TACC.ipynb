{
 "cells": [
  {
   "cell_type": "markdown",
   "metadata": {},
   "source": [
    "<div style=\"height:150px;background-repeat: no-repeat;background-color:#cccccc\"><img src='https://sciencegateways.org/documents/33104/0/sgci-new-logo-words-below-black.png/2fd67b90-d490-4a61-8b4e-c525cfade141?t=1501001786898' style='height:150px'></div> \n"
   ]
  },
  {
   "cell_type": "code",
   "execution_count": 1,
   "metadata": {
    "extensions": {
     "jupyter_dashboards": {
      "version": 1,
      "views": {
       "grid_default": {
        "col": 0,
        "height": 4,
        "hidden": false,
        "row": 0,
        "width": 4
       },
       "report_default": {
        "hidden": false
       }
      }
     }
    }
   },
   "outputs": [
    {
     "data": {
      "application/javascript": [
       "\n",
       "requirejs.undef('filepicker');\n",
       "\n",
       "define('filepicker', [\"@jupyter-widgets/base\"], function(widgets) {\n",
       "\n",
       "    var FilePickerView = widgets.DOMWidgetView.extend({\n",
       "        render: function(){\n",
       "            this.file = document.createElement('input');\n",
       "            this.file.setAttribute('class', 'fileinput');\n",
       "            this.file.setAttribute('id', this.cid);\n",
       "            this.file.multiple = this.model.get('multiple');\n",
       "            this.file.required = true;\n",
       "            this.file.setAttribute('type', 'file');\n",
       "            this.file.setAttribute('style', 'display:none');\n",
       "\n",
       "            this.label = document.createElement('label');\n",
       "            this.label.setAttribute('for', this.cid);\n",
       "            this.label.setAttribute('style', 'border: 1px solid; border-radius: 5px; display: inline-block; padding: 6px 12px');\n",
       "\n",
       "            this.icon = document.createElement('i');\n",
       "            this.icon.setAttribute(\"class\", \"fa fa-upload\");\n",
       "\n",
       "            if (this.file.multiple) {\n",
       "                this.labelstr = \"  Upload Files\";\n",
       "            } else {\n",
       "                this.labelstr = \"  Upload File\";\n",
       "            }\n",
       "            this.label.innerHTML = this.labelstr;\n",
       "            this.label.prepend(this.icon);\n",
       "            this.el.appendChild(this.label);\n",
       "            this.el.appendChild(this.file);\n",
       "            this.listenTo(this.model, 'change:send', this._send_changed, this);\n",
       "            this.listenTo(this.model, 'change:reset', this._reset, this);\n",
       "            this.update();\n",
       "        },\n",
       "\n",
       "        events: {\n",
       "            // List of events and their handlers.\n",
       "            'change': 'handle_file_change'\n",
       "        },\n",
       "\n",
       "        _reset: function() {\n",
       "            this.label.innerHTML = this.labelstr;\n",
       "            this.label.prepend(this.icon);\n",
       "            this.file.removeAttribute(\"disabled\");\n",
       "        },\n",
       "\n",
       "        _send_changed: function() {\n",
       "            var that = this;\n",
       "            var send = this.model.get('send');\n",
       "            var fnum = send[0];\n",
       "            var offset = send[1];\n",
       "            var chunk_size=64*1024;\n",
       "            var reader;\n",
       "\n",
       "            if (fnum == -1) {\n",
       "                // ignore\n",
       "                return\n",
       "            }\n",
       "\n",
       "            if (offset == 0) {\n",
       "                this.model.set('sent', -1);\n",
       "                this.touch();\n",
       "            }\n",
       "\n",
       "            // console.log('send: ' + fnum + ' ' + offset);\n",
       "            function tob64( buffer ) {\n",
       "                var binary = '';\n",
       "                var bytes = new Uint8Array( buffer );\n",
       "                var len = bytes.byteLength;\n",
       "                for (var i = 0; i < len; i++) {\n",
       "                    binary += String.fromCharCode( bytes[ i ] );\n",
       "                }\n",
       "                return window.btoa( binary );\n",
       "            }\n",
       "\n",
       "            var reader_done = function (event) {\n",
       "                // chunk is finished.  Send to python\n",
       "                if (event.target.error == null) {\n",
       "                    var b64 = tob64(event.target.result);\n",
       "                    that.model.set('data', b64);\n",
       "                    that.model.set('sent', offset);\n",
       "                    that.touch();\n",
       "                } else {\n",
       "                    console.log(\"Read error: \" + event.target.error);\n",
       "                    that.model.set('data', '');\n",
       "                    that.model.set('sent', -2);\n",
       "                    that.touch();\n",
       "                }\n",
       "                that.touch();\n",
       "            }\n",
       "        \n",
       "            var chunk_reader = function (_offset, _f) {\n",
       "                // console.log('CR' + ' ' + _f + ' ' + _offset);\n",
       "                reader = new FileReader();\n",
       "                var chunk = _f.slice(_offset, chunk_size + _offset);            \n",
       "                reader.readAsArrayBuffer(chunk);\n",
       "                reader.onload = reader_done;\n",
       "            }\n",
       "    \n",
       "            // OK. request next chunk\n",
       "            chunk_reader(offset, this.files[fnum]);\n",
       "        },\n",
       "        \n",
       "        \n",
       "        handle_file_change: function(evt) {\n",
       "\n",
       "            var _files = evt.target.files;\n",
       "            var filenames = [];\n",
       "            var file_readers = [];\n",
       "            this.files = [];\n",
       "\n",
       "            for (var i = 0; i < _files.length; i++) {\n",
       "                var file = _files[i];\n",
       "                console.log(\"Filename: \" + file.name);\n",
       "                console.log(\"Type: \" + file.type);\n",
       "                console.log(\"Size: \" + file.size + \" bytes\");\n",
       "                this.files.push(file);\n",
       "                filenames.push([file.name, file.size]);\n",
       "            };\n",
       "            \n",
       "            // Set the filenames of the files.\n",
       "            this.model.set('filenames', filenames);\n",
       "            this.touch();\n",
       "\n",
       "            // update the label\n",
       "            if (filenames.length == 0) {\n",
       "                this.label.innerHTML = this.labelstr;\n",
       "                this.file.removeAttribute(\"disabled\");\n",
       "            } else if (filenames.length == 1) {\n",
       "                this.label.innerHTML = \"  \" + filenames[0][0];\n",
       "                this.file.setAttribute('disabled', 'true');\n",
       "            } else {\n",
       "                this.label.innerHTML = \"  \" + filenames.length + \" files selected\";\n",
       "                this.file.setAttribute('disabled', 'true');           \n",
       "            };\n",
       "            this.label.prepend(this.icon);\n",
       "        },\n",
       "    });\n",
       "\n",
       "    // Register the FilePickerView with the widget manager.\n",
       "    return {\n",
       "        FilePickerView: FilePickerView\n",
       "    };\n",
       "});\n"
      ],
      "text/plain": [
       "<IPython.core.display.Javascript object>"
      ]
     },
     "metadata": {},
     "output_type": "display_data"
    }
   ],
   "source": [
    "import warnings\n",
    "warnings.filterwarnings('ignore')\n",
    "from IPython.display import display\n",
    "import math\n",
    "import time\n",
    "from scgi_parameters import SCGI_UI\n",
    "from scgi_utils import GetPbs as GetPbs, getStatus, isfloat, TemplatePBS\n",
    "from scgi_connect import ShellHandler\n",
    "from secrets import SECRETS\n",
    "from plotly.offline import download_plotlyjs, init_notebook_mode, plot, iplot\n",
    "import plotly.graph_objs as go\n",
    "import re\n",
    "from SCGICatalog import SCGICatalogLocal"
   ]
  },
  {
   "cell_type": "markdown",
   "metadata": {},
   "source": [
    "<div style=\"height:50px;background-repeat: no-repeat;background-color:#cccccc\"><img src='https://www.tacc.utexas.edu/tacc-new-theme/images/logo.svg' style='position:absolute;right:20px;height:50px'><h1 style=\"text-align:left;padding-top:10px\">Stampede 2 (Texas Advanced Computing Center)</h1></div> "
   ]
  },
  {
   "cell_type": "code",
   "execution_count": 2,
   "metadata": {},
   "outputs": [],
   "source": [
    "instance_json = '''{ \n",
    "    \"name\" : \"GaAs_Tutorial\",\n",
    "    \"application\": { \"#ref\" : \"{app}#application\" },\n",
    "    \"execution\" : {\n",
    "        \"host\" : { \"#ref\" : \"{res}#host\" },\n",
    "        \"connection\" : { \"#ref\" : \"{res}#((computeResources[?schedulerType==\\'BATCH\\'] | [0]).connections[?securityProtocol==\\'PASSWORDS\\'] | [0])\" },\n",
    "        \"system\" : { \"#ref\" : \"{res}#(computeResources[?schedulerType==\\'BATCH\\'] | [0]).{jobManager:batchSystem.jobManager, commandPaths:batchSystem.commandPaths, partition:batchSystem.partitions[0]}\"},\n",
    "        \"parallel\" : { \"#ref\" : \"{res}#((computeResources[?schedulerType==\\'BATCH\\'] | [0]).batchSystem.[executionCommands[?commandType==\\'mpi\\']][] | [0])\" }\n",
    "    },\n",
    "    \"storage\":{\n",
    "        \"connection\" : { \"#ref\" : \"{res}#((computeResources[?schedulerType==\\'BATCH\\'] | [0]).connections[?securityProtocol==\\'PASSWORDS\\'] | [0])\" },\n",
    "        \"filesystem\" : { \"#ref\" : \"{res}#(storageResources[?storageType==\\'POSIX\\'].fileSystems[] | [0])\" } \n",
    "    }\n",
    "}'''\n",
    "qe_tacc = {\n",
    "    \"application\":{\n",
    "        \"name\" : \"pw.x\",\n",
    "        \"moduleDependencies\" : [\"qe/6.4.1\"],\n",
    "        \"inputs\" : { \"PBS_TEMPLATE\" : TemplatePBS() }\n",
    "    }\n",
    "}\n",
    "gh = SCGICatalogLocal()\n",
    "\n",
    "params = gh.derefResource(instance_json, {\n",
    "    'res':gh.getResource('stampede2.tacc.xsede'), \n",
    "    'app':qe_tacc\n",
    "})\n",
    "SCGI = {}"
   ]
  },
  {
   "cell_type": "code",
   "execution_count": 3,
   "metadata": {},
   "outputs": [],
   "source": [
    "PBS = params[\"application\"]['inputs']['PBS_TEMPLATE']\n",
    "TUTORIAL_NAME = params[\"name\"]\n",
    "APP = params[\"application\"][\"name\"]\n",
    "P_NAME = params[\"execution\"][\"system\"][\"partition\"][\"name\"]\n",
    "MPI = params[\"execution\"]['parallel']['commandPrefix']\n",
    "modules = (params[\"execution\"]['parallel']['moduleDependencies'] + params[\"application\"][\"moduleDependencies\"])\n",
    "MODULES = \" \\n\".join([\"module load \" + m for m in modules])\n",
    "PORT = params[\"execution\"][\"connection\"]['port']\n",
    "HOST = params[\"execution\"]['host']\n",
    "HOME = params[\"storage\"][\"filesystem\"]['homeDir']\n",
    "COMMANDS = {c['name']:c['path'] for c in  params[\"execution\"][\"system\"][\"commandPaths\"]}\n",
    "SBATCH = COMMANDS['SUBMISSION']\n",
    "SESSIONS = [None]\n"
   ]
  },
  {
   "cell_type": "markdown",
   "metadata": {
    "extensions": {
     "jupyter_dashboards": {
      "version": 1,
      "views": {
       "grid_default": {
        "col": 0,
        "height": 11,
        "hidden": false,
        "row": 4,
        "width": 12
       },
       "report_default": {
        "hidden": false
       }
      }
     }
    }
   },
   "source": [
    "<div style=\"height:32px;background-image:url('ParadimLogo.png');background-repeat: no-repeat;background-color:#cccccc\"><img src='HubzeroLogo.png' style='position:absolute;right:20px;width:110px;height:32px'><h1 style=\"text-align:center;padding-top:3px\">Calculating UV/Vis spectra on GaAs</h1></div>    \n",
    "\n",
    "In this tutorial we will see how to calculate the band structures and the optical absorption spectra of\n",
    "semiconductors. This tutorial we will perform calculations at the SCGI Resource, In order to connect to SCGI we need to use the `two-factor authentication' protocol.\n",
    "\n",
    "For this you will need:\n",
    "- The username\n",
    "- The password\n",
    "- The Dual Auth\n",
    "\n",
    "Please fill out all the fields below and press the 'Connect' Button, if a connection is succesfull stablished the message \"Connection created successfully\" would be displayed.\n",
    "\n",
    "If you get the message \"ERROR: A new connection is required\" on any of the steps below, you must update the information with a new google authenticator token, and press the button connect again.\n",
    "\n",
    "Each time this notebook is loaded, this would assign a new working folder to store results. If you know the folder name containing previous results and skip some of the steps, please change it."
   ]
  },
  {
   "cell_type": "code",
   "execution_count": 4,
   "metadata": {
    "extensions": {
     "jupyter_dashboards": {
      "version": 1,
      "views": {
       "grid_default": {
        "col": 0,
        "height": 10,
        "hidden": false,
        "row": 15,
        "width": 4
       },
       "report_default": {
        "hidden": false
       }
      }
     }
    }
   },
   "outputs": [
    {
     "data": {
      "application/vnd.jupyter.widget-view+json": {
       "model_id": "4616f21606e84c15af0464c8f9e8982b",
       "version_major": 2,
       "version_minor": 0
      },
      "text/plain": [
       "Group(children=(HTML(value=\"<p   style='background-color: #DCDCDC; font-size: 150%; padding: 5px'>Credentials<…"
      ]
     },
     "metadata": {},
     "output_type": "display_data"
    }
   ],
   "source": [
    "def CreateConnection( event ):    \n",
    "    global SCGI_UI\n",
    "    SCGI_UI['s0']['status'].value = \"Connecting...\"            \n",
    "    SESSIONS[0] = ShellHandler( SCGI_UI['s0']['code'].value, \n",
    "                                       SCGI_UI['s0']['user'].value, \n",
    "                                       SCGI_UI['s0']['pwd'].value, \n",
    "                                       HOST, \n",
    "                                       PORT)\n",
    "    folder_name = HOME + \"/\" + SCGI_UI['s0']['folder'].value\n",
    "    if SESSIONS[0] is not None and SESSIONS[0].is_active():\n",
    "        stdin, stdout, stderr, command = SESSIONS[0].execute(\"mkdir \" + folder_name);\n",
    "        stdin, stdout, stderr, command = SESSIONS[0].execute(\"cd \" + folder_name);            \n",
    "        SCGI_UI['s0']['status'].value = \"Connection created successfully\"\n",
    "    else:\n",
    "        SCGI_UI['s0']['status'].value = \"ERROR: There has been an issue with the connection\"            \n",
    "        \n",
    "SCGI_UI['s0']['button'].on_click(CreateConnection)\n",
    "display(SCGI_UI['s0']['display'])"
   ]
  },
  {
   "cell_type": "markdown",
   "metadata": {
    "extensions": {
     "jupyter_dashboards": {
      "version": 1,
      "views": {
       "grid_default": {
        "col": 0,
        "height": 6,
        "hidden": false,
        "row": 25,
        "width": 12
       },
       "report_default": {
        "hidden": false
       }
      }
     }
    }
   },
   "source": [
    "<div style=\"height:32px;background-image:url('ParadimLogo.png');background-repeat: no-repeat;background-color:#cccccc\"><img src='HubzeroLogo.png' style='position:absolute;right:20px;width:110px;height:32px'><h1 style=\"text-align:center;padding-top:3px\">Step 1: Crystal information</h1></div>\n",
    "\n",
    "We consider GaAs this tutorial as a common semiconductor. We will start with a simple total energy calculation for GaAs in the diamond structure. In order to proceed we first need pseudopotentials, we need one pseudopotential for each atomic species (the pseudopotential describes the atomic nucleus and the electrons except the outermost (valence) shell). The QE pseudopotential libraries can be found at http://www.quantum-espresso.org/pseudopotentials , and will be downloaded in the working folder.\n",
    "\n",
    "All the parameters in this input file have been optimized separately. the commands executed in the server are shown in the stdin tab, simulation output in the stdout and any error in the stderr tab. Press the \"Calculate Self Consistency\" button to start the simulation, the Job will be queued(PD), run(R) and then marked as (GC) when the job is complete"
   ]
  },
  {
   "cell_type": "code",
   "execution_count": 5,
   "metadata": {
    "extensions": {
     "jupyter_dashboards": {
      "version": 1,
      "views": {
       "grid_default": {
        "col": 0,
        "height": 16,
        "hidden": false,
        "row": 31,
        "width": 4
       },
       "report_default": {
        "hidden": false
       }
      }
     }
    }
   },
   "outputs": [
    {
     "data": {
      "application/vnd.jupyter.widget-view+json": {
       "model_id": "985ce22fdda84eeba1322019598ee9c6",
       "version_major": 2,
       "version_minor": 0
      },
      "text/plain": [
       "Tab(children=(Group(children=(HTML(value=\"<p   style='background-color: #DCDCDC; font-size: 150%; padding: 5px…"
      ]
     },
     "metadata": {},
     "output_type": "display_data"
    }
   ],
   "source": [
    "def CalculateSelfConsistency ( event ):\n",
    "    global SCGI_UI, SCGI\n",
    "    if SESSIONS[0] is not None and SESSIONS[0].is_active():        \n",
    "        id_name = TUTORIAL_NAME + '_scf'\n",
    "        pbs_file = id_name + \".pbs\"\n",
    "        SESSIONS[0].execute(\"wget https://pseudopotentials.quantum-espresso.org/upf_files/Ga.pz-bhs.UPF\", SCGI_UI['s1']);\n",
    "        SESSIONS[0].execute(\"wget https://pseudopotentials.quantum-espresso.org/upf_files/As.pz-bhs.UPF\", SCGI_UI['s1']);\n",
    "        inputdeck = SCGI_UI['s1']['input'].value.replace('\\n', '\\\\n')\n",
    "        SESSIONS[0].execute(\"printf \\\"\" + inputdeck + \"\\\" > \" + id_name + \".in\", SCGI_UI['s1']);\n",
    "        SESSIONS[0].execute(\"printf \\\"\" + GetPbs(PBS, id_name, APP, P_NAME, MPI, MODULES).replace('\\n', '\\\\n') + \"\\\" > \" + pbs_file, SCGI_UI['s1']);\n",
    "        stdin, stdout, stderr, command = SESSIONS[0].execute(SBATCH + \" \" + pbs_file, SCGI_UI['s1']);\n",
    "        try:\n",
    "            code = stdout[len(stdout)-1].strip('\\n')\n",
    "            code = code.split(' ')\n",
    "            code = code[len(code)-1]\n",
    "            if (code.isdigit()):\n",
    "                SCGI_UI['s1']['job_id'].value = code\n",
    "                status = 'Q'\n",
    "                while status != 'CG' and status != 'X' and status != 'ST' and status != 'O' :\n",
    "                    status, response, command = getStatus( SESSIONS[0], SCGI_UI['s1']['job_id'].value, SCGI_UI['s1'] )\n",
    "                    SCGI_UI['s1']['status'].value = status\n",
    "                    time.sleep(5)                    \n",
    "                SESSIONS[0].execute(\"cat \" + id_name + \".out\", SCGI_UI['s1']);\n",
    "            else : \n",
    "                SCGI_UI['s1']['job_id'].value = \"Error with the PBS submittion\"\n",
    "        except:\n",
    "            SCGI_UI['s1']['job_id'].value = \"Error with the PBS submittion\"\n",
    "    else :\n",
    "        print (\"ERROR: A new connection is required\")\n",
    "\n",
    "SCGI_UI['s1']['button']._click_handlers.callbacks = []\n",
    "SCGI_UI['s1']['button'].on_click(CalculateSelfConsistency)\n",
    "display (SCGI_UI['s1']['display'])\n",
    "\n"
   ]
  },
  {
   "cell_type": "markdown",
   "metadata": {
    "extensions": {
     "jupyter_dashboards": {
      "version": 1,
      "views": {
       "grid_default": {
        "col": 4,
        "height": 8,
        "hidden": false,
        "row": 15,
        "width": null
       },
       "report_default": {
        "hidden": false
       }
      }
     }
    }
   },
   "source": [
    "<div style=\"height:32px;background-image:url('ParadimLogo.png');background-repeat: no-repeat;background-color:#cccccc\"><img src='HubzeroLogo.png' style='position:absolute;right:20px;width:110px;height:32px'><h1 style=\"text-align:center;padding-top:3px\">Step 2: Calculate Band Structures</h1></div>\n",
    "\n",
    "Then, we want to calculate the band structure. This calculation is non self-consistent, in the sense that we use values for the ground-state electron density, Hartree, and exchange and correlation potentials. In a non self-consistent calculation the code pw.x determines the Kohn-Sham eigenfunctions and eigenvalues without upgrading the Kohn-Sham Hamiltonian at every step. This is achieved by using the keyword calculation = 'bands' and by specifying the k-points for which we want the eigenvalues:\n",
    "\n",
    "In this input file the keyword tpiba_b after K_POINTS specifies that we want pw.x to generate a path going through the points specified in the list. The following number (3) is the number of vertices, and the integer following the coordinates (20) is the number of points in each segment. So in this case we will have 20 points from $L = (1/2,1/2,1/2)2\\pi/a$ to $\\Gamma$ = (0,0,0) and 20 points from $\\Gamma=(0,0,0)$ to $X=(1,0,0)2\\pi/a$. The points are given in Cartesian coordinates and in units of $2\\pi/a$. In this input file we also specify the number of bands that we want to calculate, we are setting nbnd = 8.\n",
    "\n",
    "Press the \"Calculate Bandstructure\" button to start the simulation, the Job will be queued(Q), run(R) and then marked as (C) when the job is complete"
   ]
  },
  {
   "cell_type": "code",
   "execution_count": 6,
   "metadata": {
    "extensions": {
     "jupyter_dashboards": {
      "version": 1,
      "views": {
       "grid_default": {
        "col": 4,
        "height": 17,
        "hidden": false,
        "row": 31,
        "width": 4
       },
       "report_default": {
        "hidden": false
       }
      }
     }
    }
   },
   "outputs": [
    {
     "data": {
      "application/vnd.jupyter.widget-view+json": {
       "model_id": "286181dde880472f9de707954e3ff42b",
       "version_major": 2,
       "version_minor": 0
      },
      "text/plain": [
       "Tab(children=(Group(children=(HTML(value=\"<p   style='background-color: #DCDCDC; font-size: 150%; padding: 5px…"
      ]
     },
     "metadata": {},
     "output_type": "display_data"
    }
   ],
   "source": [
    "def CalculateBandStructure ( event ):\n",
    "    global SCGI_UI\n",
    "    if SESSIONS[0] is not None and SESSIONS[0].is_active():   \n",
    "        id_name = TUTORIAL_NAME + '_bands'\n",
    "        pbs_file = id_name + \".pbs\"\n",
    "        inputdeck = SCGI_UI['s2']['input'].value.replace('\\n', '\\\\n')\n",
    "        SESSIONS[0].execute(\"printf \\\"\" + inputdeck + \"\\\" > \" + id_name + \".in\", SCGI_UI['s2']);\n",
    "        SESSIONS[0].execute(\"printf \\\"\" + GetPbs(PBS, id_name, APP, P_NAME, MPI, MODULES).replace('\\n', '\\\\n') + \"\\\" > \" + pbs_file, SCGI_UI['s1']);\n",
    "        stdin, stdout, stderr, command = SESSIONS[0].execute(SBATCH + \" \" + pbs_file, SCGI_UI['s2']);\n",
    "        try:\n",
    "            code = stdout[len(stdout)-1].strip('\\n')\n",
    "            code = code.split(' ')\n",
    "            code = code[len(code)-1]\n",
    "            if (code.isdigit()):\n",
    "                SCGI_UI['s2']['job_id'].value = code\n",
    "                status = 'Q'\n",
    "                while status != 'CG' and status != 'X' and status != 'ST' and status != 'O' :\n",
    "                    status, response, command = getStatus( SESSIONS[0], SCGI_UI['s2']['job_id'].value, SCGI_UI['s2'] )\n",
    "                    SCGI_UI['s2']['status'].value = status\n",
    "                    time.sleep(5)\n",
    "                stdin, stdout, stderr, command = SESSIONS[0].execute(\"cat \" + id_name + \".out\", SCGI_UI['s2']);\n",
    "            else : \n",
    "                SCGI_UI['s2']['job_id'].value = \"Error with the PBS submittion\"\n",
    "        except:\n",
    "            SCGI_UI['s2']['job_id'].value = \"Error with the PBS submittion\"\n",
    "    else :\n",
    "        print (\"ERROR: A new connection is required\")\n",
    "\n",
    "    \n",
    "SCGI_UI['s2']['button']._click_handlers.callbacks = []\n",
    "SCGI_UI['s2']['button'].on_click(CalculateBandStructure)\n",
    "display (SCGI_UI['s2']['display'])\n"
   ]
  },
  {
   "cell_type": "markdown",
   "metadata": {
    "extensions": {
     "jupyter_dashboards": {
      "version": 1,
      "views": {
       "grid_default": {
        "col": 8,
        "height": 9,
        "hidden": false,
        "row": 31,
        "width": null
       },
       "report_default": {
        "hidden": false
       }
      }
     }
    }
   },
   "source": [
    "<div style=\"height:32px;background-image:url('ParadimLogo.png');background-repeat: no-repeat;background-color:#cccccc\"><img src='HubzeroLogo.png' style='position:absolute;right:20px;width:110px;height:32px'><h1 style=\"text-align:center;padding-top:3px\">Step 3: Extract Bandstructures</h1></div>\n",
    "\n",
    "For each k-point in the input file, we have the coordinates of the point and the calculated eigenvalues in eV, in this case we requested 8 bands. In order to plot the bands along the chosen path, we must extract these eigenvalues, and calculate the distance covered as we move along the path $L \\longrightarrow \\Gamma \\longrightarrow X$.\n",
    "\n",
    "* ExtractKPoints: Extract all k-points and their respective eigenvalues\n",
    "* CalculatePath: Calculates the distance of each k_point in the path\n",
    "* CreateDataPlot: Creates scattered lines along each band\n",
    "* CreateAdditionalTics: Includes labels for known symmetry points.\n",
    "\n",
    "Press the \"Extract Bandstructure\" button to start the processing, the bandstructures will be visualized using the plotly library"
   ]
  },
  {
   "cell_type": "code",
   "execution_count": 7,
   "metadata": {
    "extensions": {
     "jupyter_dashboards": {
      "version": 1,
      "views": {
       "grid_default": {
        "col": 8,
        "height": 20,
        "hidden": false,
        "row": 40,
        "width": 4
       },
       "report_default": {
        "hidden": false
       }
      }
     }
    }
   },
   "outputs": [
    {
     "data": {
      "application/vnd.jupyter.widget-view+json": {
       "model_id": "b7662435434b4fef80fed7e6457f5aaa",
       "version_major": 2,
       "version_minor": 0
      },
      "text/plain": [
       "Group(children=(HTML(value=\"<p   style='background-color: #DCDCDC; font-size: 150%; padding: 5px'>band-structu…"
      ]
     },
     "metadata": {},
     "output_type": "display_data"
    }
   ],
   "source": [
    "def ExtractKPoints ( stdout ):        \n",
    "    l = len(stdout)\n",
    "    i=0\n",
    "    k_points = []\n",
    "    while i<l:\n",
    "        if ' k = ' in stdout[i]: #new k point found\n",
    "            point = {}\n",
    "            point['k'] = [float(s) for s in stdout[i].split() if isfloat(s)]\n",
    "            i = i+2\n",
    "            point['v'] = []\n",
    "            while (i<l and stdout[i].strip() != \"\"):\n",
    "                point['v'] = point['v'] + [float(s) for s in stdout[i].split() if isfloat(s)]\n",
    "                i = i + 1\n",
    "            point['total'] = len(point['v'])\n",
    "            k_points.append(point)\n",
    "        i = i+1\n",
    "    return k_points\n",
    "\n",
    "def CalculatePath ( k_points ):        \n",
    "    path_len = 0\n",
    "    for i in range(len(k_points)):\n",
    "        if i > 0:\n",
    "            p1= k_points[i-1]['k']\n",
    "            p2= k_points[i]['k']\n",
    "            path_len = path_len + math.sqrt(math.pow(p2[0]-p1[0],2)+math.pow(p2[1]-p1[1],2)+math.pow(p2[2]-p1[2],2))                                                \n",
    "        k_points[i]['p'] = path_len\n",
    "    x_points = [k['p'] for k in k_points]\n",
    "    return k_points, x_points\n",
    "\n",
    "def CreateDataPlot( k_points, x_points, ezero, total_bands ):\n",
    "    data = []\n",
    "    emin = 0\n",
    "    emax = 0\n",
    "    for k in range(total_bands):\n",
    "        y_points = [p['v'][k]-ezero for p in k_points]\n",
    "        emax = max(emax, max(y_points))\n",
    "        emin = min(emin, min(y_points))\n",
    "        if all(v > 0 for v in y_points):\n",
    "            band_color = 'rgb(205, 12, 24)'\n",
    "        else:\n",
    "            band_color = 'rgb(22, 96, 167)'\n",
    "        trace = go.Scatter(\n",
    "            x = x_points,\n",
    "            y = y_points,\n",
    "            mode = 'lines',\n",
    "            line = dict(color = (band_color)))\n",
    "        data.append(trace)\n",
    "    return data, emax, emin\n",
    "\n",
    "def CreateAdditionalTics( data, k_points, labels, emax, emin ):\n",
    "    ticktext=[]\n",
    "    tickvals=[]\n",
    "    for key, value in labels.items():                    \n",
    "        step = 0\n",
    "        for k in k_points:\n",
    "            if (k['k'][0]==value[0] and k['k'][1]==value[1] and k['k'][2]==value[2]):\n",
    "                step = k['p']\n",
    "        trace = go.Scatter(\n",
    "            x=[step, step],\n",
    "            y=[emin, emax],\n",
    "            mode=\"lines\",\n",
    "            line=dict(color=\"#111111\", width=1),\n",
    "            showlegend=False)\n",
    "        data.append(trace)\n",
    "        ticktext.append(key)\n",
    "        tickvals.append(step)\n",
    "    return data, ticktext, tickvals\n",
    "\n",
    "\n",
    "\n",
    "def VisualizeBandStructure ( event ):        \n",
    "    global SCGI_UI\n",
    "    if SESSIONS[0] is not None and SESSIONS[0].is_active():\n",
    "        labels = {\"L\":[0.5,0.5,0.5], \"G\":[0.0, 0.0, 0.0], \"X\":[1.0, 0.0, 0.0]}\n",
    "        ezero = 6.2057  \n",
    "        SCGI_UI['s3']['output'].clear_output()\n",
    "        with SCGI_UI['s3']['output']:            \n",
    "            id_name = TUTORIAL_NAME + '_bands'\n",
    "            stdin, stdout, stderr, command = SESSIONS[0].execute(\"cat \" + id_name + \".out\");\n",
    "            k_points = ExtractKPoints(stdout)\n",
    "            SCGI_UI['s3']['input'].value = '\\n'.join([str(c) + ' ' + str(k['v']) for c,k in enumerate(k_points)])\n",
    "            k_points, x_points = CalculatePath(k_points)\n",
    "            data, emax, emin = CreateDataPlot(k_points, x_points, ezero, k_points[0]['total'])\n",
    "            data, ttext, tvals = CreateAdditionalTics(data, k_points, labels, emax, emin)\n",
    "            layout = go.Layout(title='GaAs Bandstructure',\n",
    "                    xaxis=dict(title = 'k-point path [2pi/a]', autorange=True, exponentformat = \"e\", ticktext=ttext,tickvals=tvals),\n",
    "                    yaxis=dict(title = 'Energy (ev)', autorange=False, exponentformat = \"e\", range=[emin, emax],),\n",
    "                    showlegend=False)                    \n",
    "            fig = go.Figure(data=data, layout=layout)\n",
    "            iplot(fig, show_link=False)\n",
    "\n",
    "    else :\n",
    "        print (\"ERROR: A new connection is required\")\n",
    "        \n",
    "SCGI_UI['s3']['button']._click_handlers.callbacks = []\n",
    "SCGI_UI['s3']['button'].on_click(VisualizeBandStructure)\n",
    "display(SCGI_UI['s3']['display'])\n"
   ]
  },
  {
   "cell_type": "code",
   "execution_count": null,
   "metadata": {},
   "outputs": [],
   "source": []
  }
 ],
 "metadata": {
  "extensions": {
   "jupyter_dashboards": {
    "activeView": "report_default",
    "version": 1,
    "views": {
     "grid_default": {
      "cellMargin": 10,
      "defaultCellHeight": 20,
      "maxColumns": 12,
      "name": "grid",
      "type": "grid"
     },
     "report_default": {
      "name": "report",
      "type": "report"
     }
    }
   }
  },
  "kernelspec": {
   "display_name": "Python 3 (ipykernel)",
   "language": "python",
   "name": "python3"
  },
  "language_info": {
   "codemirror_mode": {
    "name": "ipython",
    "version": 3
   },
   "file_extension": ".py",
   "mimetype": "text/x-python",
   "name": "python",
   "nbconvert_exporter": "python",
   "pygments_lexer": "ipython3",
   "version": "3.7.7"
  },
  "tool": false
 },
 "nbformat": 4,
 "nbformat_minor": 2
}
